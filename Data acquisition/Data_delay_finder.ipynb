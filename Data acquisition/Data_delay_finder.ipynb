{
 "cells": [
  {
   "cell_type": "code",
   "execution_count": null,
   "id": "6e2f216f-6695-4349-984b-bef5c7ee2903",
   "metadata": {},
   "outputs": [],
   "source": [
    "import numpy as np\n",
    "import matplotlib.pyplot as plt\n",
    "import scipy.fft as sp\n",
    "from scipy.signal import correlate as correlate\n",
    "\n",
    "def fft(arr): return np.fft.fftshift(np.fft.fft2(np.fft.fftshift(arr)))"
   ]
  },
  {
   "cell_type": "code",
   "execution_count": null,
   "id": "ee17e751-1275-4283-bb45-ea0fb9b9117f",
   "metadata": {},
   "outputs": [],
   "source": [
    "#### Load the files here, use the [number:] if you already have a delay number to correct for\n",
    "#### -n delay means [n:] for IQ0, n delay means [n:] for IQ1\n",
    "\n",
    "IQ0 = np.fromfile(\"EXPERIMENT/airspy0_LNA\", dtype=\"complex64\")[26297:]\n",
    "IQ1 = np.fromfile(\"EXPERIMENT/airspy1_LNA\", dtype=\"complex64\")[:]\n",
    "\n",
    "\n",
    "\n",
    "# 1[8840:], 2 --> data with the clocks\n",
    "#IQ0 = np.fromfile(\"delay_test/3test_Airspy1\", dtype=\"complex64\")[8840:]\n",
    "#IQ1 = np.fromfile(\"delay_test/3test_Airspy2\", dtype=\"complex64\")\n",
    "#IQ2 = np.fromfile(\"delay_test/3test_Airspy0\", dtype=\"complex64\")\n",
    "\n",
    "#IQ0 = np.fromfile(\"delay_test/No_clock_Airspy0\", dtype=\"complex64\")\n",
    "#IQ1 = np.fromfile(\"delay_test/No_clock_Airspy1\", dtype=\"complex64\")\n",
    "\n",
    "#IQ0 = np.fromfile(\"delay_test/GPS_clock_Airspy0\", dtype=\"complex64\")[1345:]\n",
    "#IQ1 = np.fromfile(\"delay_test/GPS_clock_Airspy1\", dtype=\"complex64\")"
   ]
  },
  {
   "cell_type": "code",
   "execution_count": null,
   "id": "428d968e-9e1e-484c-b8f7-f032308351e6",
   "metadata": {},
   "outputs": [],
   "source": [
    "#### Get the lengths of the files. These need not be equal, even after correcting for delay\n",
    "#### since there also is a delay turning them off.\n",
    "print(\"Original length:\", len(IQ0))\n",
    "print(\"Original length:\", len(IQ1))"
   ]
  },
  {
   "cell_type": "code",
   "execution_count": null,
   "id": "2d396cf8-b81c-46ca-b11f-6e97ed7f62a6",
   "metadata": {},
   "outputs": [],
   "source": [
    "#### resize arrays pre-calculation, to reduce needed cpu time\n",
    "resize = 50_000_000\n",
    "IQ0 = IQ0[:resize]\n",
    "IQ1 = IQ1[:resize]\n",
    "\n",
    "print(\"Resized length:\", len(IQ0))\n",
    "print(\"Resized length:\", len(IQ1))"
   ]
  },
  {
   "cell_type": "code",
   "execution_count": null,
   "id": "5ad1f499-8c8e-4502-8e6b-877a1135ba4e",
   "metadata": {},
   "outputs": [],
   "source": [
    "#### Plot magnitude of time-series data, to visually inspect start-up delay\n",
    "plot_till = 800_000_000\n",
    "step = 5_000\n",
    "plt.plot(np.abs(IQ0[:plot_till][::step]), alpha=.6)\n",
    "plt.plot(np.abs(IQ1[:plot_till][::step]), alpha=.6)\n",
    "plt.xlabel(\"Number of steps\")\n",
    "plt.ylabel(\"Magnitude a.u.\")\n",
    "plt.title(\"Time-series magnitude as function of sample number\")\n",
    "plt.show()"
   ]
  },
  {
   "cell_type": "code",
   "execution_count": null,
   "id": "fcb8b578-ae10-4402-8939-69433ec510e6",
   "metadata": {},
   "outputs": [],
   "source": [
    "#### This code takes a while, only run on smaller subsets, or be prepared to wait a while\n",
    "#### A very good measure however to test if your delay correction is correct.\n",
    "#### The print should return 0, if the correction if proper, otherwise it prints the delay\n",
    "#### It will onlt print the delay if the delay is constant, flat. If there is a non-constant delay, solve that first.\n",
    "corr_abs = np.abs(correlate(IQ0, IQ1, mode='same', method='fft'))\n",
    "plt.plot(corr_abs)\n",
    "plt.xlabel(\"Sample number\")\n",
    "plt.ylabel(\"Correlation a.u.\")\n",
    "plt.title(\"Correlation as function of sample number\")\n",
    "plt.show()\n",
    "\n",
    "print(len(IQ1)//2 - np.argmax(np.abs(corr_abs)))\n",
    "%xdel corr_abs"
   ]
  },
  {
   "cell_type": "code",
   "execution_count": null,
   "id": "acc9f149-bf68-4935-92b7-73bc1fae0713",
   "metadata": {},
   "outputs": [],
   "source": [
    "#### This code is significantly faster, and used to track dropped samples by testing\n",
    "#### coherency as function of time. Ignore the first [start] terms, then correlate\n",
    "#### a subarray of length [upto], and jump through the full array at steps [step].\n",
    "#### A straight line is expected. If it's not at 0, there is a full-sample delay between the two.\n",
    "\n",
    "#### If the line is not flat, you have big problems.\n",
    "#### If the line is linearly increasing, your clocks are at different frequencies, thus the GPS clock is either not connected or fucked.\n",
    "#### If the line is all over the place, you are dropping samples and your data is useless. Or your step is larger than the samplle delay.\n",
    "\n",
    "step  = 10_000         # Too large step might give false sense of coherence. Try smaller one if doubt\n",
    "upto  = 20_000         # good value is 2x step, to make sure you aren't skipping data.\n",
    "start = 20_000\n",
    "end   = 800_000_000   # make sure this is less than your total arraysize.\n",
    "\n",
    "if end > len(IQ0): end = np.min((len(IQ0), len(IQ1)))\n",
    "\n",
    "arr = []\n",
    "for s in np.arange(start, end, step).astype('int'):\n",
    "    c = correlate(IQ0[s:s+upto], IQ1[s:s+upto], mode='same')\n",
    "    shift = upto // 2 - np.argmax(np.abs(c)) \n",
    "    arr += [shift]\n",
    "plt.plot(arr)\n",
    "plt.xlabel(\"Steps\")\n",
    "plt.ylabel(\"Sample offset\")\n",
    "plt.title(\"Sample offset as function of step\")\n",
    "plt.show()\n",
    "\n",
    "print(np.mean(arr))"
   ]
  },
  {
   "cell_type": "code",
   "execution_count": null,
   "id": "757cf7e2-5032-4e56-a308-f1bd51a743d1",
   "metadata": {},
   "outputs": [],
   "source": [
    "#### This code is preparational code for the 2D crosscorrelation.\n",
    "#### It makes sure the lengths are multiples of the channel count, and that the arrays are equal length.\n",
    "\n",
    "channels = 512\n",
    "sample_rate = 2.5e6\n",
    "\n",
    "#### changing length to a multiple of channels\n",
    "len0 = (len(IQ0)//channels) * channels\n",
    "len1 = (len(IQ1)//channels) * channels\n",
    "shortest = np.min((len0, len1))\n",
    "\n",
    "IQ0 = IQ0[:shortest]\n",
    "IQ1 = IQ1[:shortest]\n",
    "\n",
    "l = len(IQ0) / channels\n",
    "time_len = len(IQ0) / sample_rate\n",
    "time_len1 = len(IQ1) / sample_rate\n",
    "print(\"Size of array:\", len(IQ0), \"\\nObservation length (s):\", time_len)\n",
    "print(\"Size of array:\", len(IQ1), \"\\nObservation length (s):\", time_len1)"
   ]
  },
  {
   "cell_type": "code",
   "execution_count": null,
   "id": "0f37a2e5-66f1-4714-99a0-a097ffff19f0",
   "metadata": {},
   "outputs": [],
   "source": [
    "#### This cell reshapes the time-series data into channels.\n",
    "#### The 'W' is optional, and can be multiplied with your IQ0 / IQ1 arrays after reshaping.\n",
    "#### It represents the blackman-harris windowing. Only for debugging atm, without is fine.\n",
    "\n",
    "#w =  np.blackman(channels).astype('float32')\n",
    "IQ0_re = (IQ0.reshape((-1, channels))).astype('complex64')# *w\n",
    "IQ1_re = (IQ1.reshape((-1, channels))).astype('complex64')# *w"
   ]
  },
  {
   "cell_type": "code",
   "execution_count": null,
   "id": "41559d56-143c-436b-a2f4-77b899f2c0ab",
   "metadata": {},
   "outputs": [],
   "source": [
    "#### This is the actual FFT. Numpy didnt like being used, so its the Scipy one.\n",
    "#### Division by l is for normalization, and is optional.\n",
    "\n",
    "#IQ0_fft = sp.fftshift(sp.fft2(IQ0)) / l\n",
    "#IQ1_fft = sp.fftshift(sp.fft2(IQ1)) / l\n",
    "\n",
    "IQ0_fft = fft(IQ0_re) / l\n",
    "IQ1_fft = fft(IQ1_re) / l"
   ]
  },
  {
   "cell_type": "code",
   "execution_count": null,
   "id": "388b796b-8250-46fb-b97b-99f83e5fe158",
   "metadata": {},
   "outputs": [],
   "source": [
    "IQ0_fft.shape"
   ]
  },
  {
   "cell_type": "code",
   "execution_count": null,
   "id": "a6d94159-50e5-4e31-bde8-afcbf2a0c42f",
   "metadata": {},
   "outputs": [],
   "source": [
    "#### This calculates the crosscorrelation, both the phase and magnitude.\n",
    "#### If you only need one for testing, comment the other to save ram and cpu time.\n",
    "#### It can also calculate the autocorrelation if need be.\n",
    "\n",
    "mult = IQ0_fft * np.conj(IQ1_fft)\n",
    "cross_ang = np.angle(mult)\n",
    "cross_abs = np.abs(mult)"
   ]
  },
  {
   "cell_type": "code",
   "execution_count": null,
   "id": "727d16da-4795-4c60-804a-b5f2b0d1d362",
   "metadata": {},
   "outputs": [],
   "source": [
    "#### Plotting the 2D result.\n",
    "#### Freq is the frequency range in MHz, ext and asp are parameters for the plt.imshow plotting, change asp\n",
    "#### if the plot is weirdly shaped.\n",
    "\n",
    "#### Expected result is a phase plot that is stable in time, and linear as function of frequency. \n",
    "#### If this is not the case, and its chaos or more regions than [-1, 0, 1] in terms of phase as function of frequency,\n",
    "#### then your delay is incorrect. Chaos means its fucked, more than 3 regions means there is likely a sub-sample delay\n",
    "#### which the earlier sub-array correlator cannot see.\n",
    "\n",
    "freq = [1420 - 1.25, 1420 + 1.25]\n",
    "ext = [freq[0], freq[1], 0, time_len]\n",
    "asp = IQ0_fft.shape[0] / time_len * (freq[1] - freq[0]) / channels / 256\n",
    "\n",
    "fig, (ax1, ax2) = plt.subplots(1, 2, sharey=True)\n",
    "p1 = ax1.imshow(cross_ang, aspect=asp, vmin=-np.pi, vmax=np.pi, cmap='seismic', extent=ext, origin='lower')\n",
    "p2 = ax2.imshow(cross_abs, aspect=asp, extent=ext, origin='lower', vmin=0, vmax=2e-6)\n",
    "plt.colorbar(p1, ax=ax1)\n",
    "plt.colorbar(p2, ax=ax2)\n",
    "ax1.set_xlabel(\"Frequency (MHz)\")\n",
    "ax2.set_xlabel(\"Frequency (MHz)\")\n",
    "ax1.set_ylabel(\"Time (s)\")\n",
    "ax1.set_title(\"Phase\")\n",
    "ax2.set_title(\"Magnitude\")\n",
    "plt.suptitle(\"Phase and magnitude of the crosscorrelation\\nof the shifted resistor observation\")\n",
    "plt.tight_layout()\n",
    "plt.show()\n",
    "\n",
    "plt.plot(cross_abs.sum(axis=1))\n",
    "plt.yscale(\"log\")\n",
    "plt.show()"
   ]
  },
  {
   "cell_type": "code",
   "execution_count": null,
   "id": "dba9ecb3-81af-4815-8446-dec474d24490",
   "metadata": {},
   "outputs": [],
   "source": [
    "#### The sum of the phase over the time-axis can also be useful to see slight deviations.\n",
    "#### It is plotted below.\n",
    "#### If the phase plot is not a linear line going from -1 to 0 to 1, something is going wrong.\n",
    "#### If the phase is chaos, its fucked, and if its smooth but not linear, then there is a sub-sample delay.\n",
    "\n",
    "fig, (ax1, ax2) = plt.subplots(1, 2)\n",
    "x = np.linspace(freq[0], freq[1], channels)\n",
    "ax1.plot(x, cross_ang.mean(axis=0))\n",
    "ax2.plot(x, cross_abs.mean(axis=0))\n",
    "ax1.set_xlabel(\"Frequency (MHz)\")\n",
    "ax2.set_xlabel(\"Frequency (MHz)\")\n",
    "ax1.set_ylabel(\"Phase\")\n",
    "ax2.set_ylabel(\"Magnitude\")\n",
    "ax1.set_title(\"Phase\")\n",
    "ax2.set_title(\"Magnitude\")\n",
    "ax1.tick_params(rotation=30)\n",
    "ax2.tick_params(rotation=30)\n",
    "plt.suptitle(\"Mean phase and magnitude of the crosscorrelation\\nof the shifted resistor observation\")\n",
    "plt.tight_layout()\n",
    "plt.show()"
   ]
  },
  {
   "cell_type": "code",
   "execution_count": null,
   "id": "f6d98d5b-4d26-4538-8fe8-25ee769d1a1a",
   "metadata": {},
   "outputs": [],
   "source": [
    "#### Code for sub-sample delay correction based on phase goes here.\n",
    "#### (the code is done, but its not here yet, ask Floris if you need it)"
   ]
  },
  {
   "cell_type": "code",
   "execution_count": null,
   "id": "b04c91f8-df3b-4e1a-a163-e51bc9a70c23",
   "metadata": {},
   "outputs": [],
   "source": []
  },
  {
   "cell_type": "code",
   "execution_count": null,
   "id": "287a45cc-1a84-418b-8a76-802d9b1064a0",
   "metadata": {},
   "outputs": [],
   "source": []
  }
 ],
 "metadata": {
  "kernelspec": {
   "display_name": "Python 3 (ipykernel)",
   "language": "python",
   "name": "python3"
  },
  "language_info": {
   "codemirror_mode": {
    "name": "ipython",
    "version": 3
   },
   "file_extension": ".py",
   "mimetype": "text/x-python",
   "name": "python",
   "nbconvert_exporter": "python",
   "pygments_lexer": "ipython3",
   "version": "3.12.5"
  }
 },
 "nbformat": 4,
 "nbformat_minor": 5
}
